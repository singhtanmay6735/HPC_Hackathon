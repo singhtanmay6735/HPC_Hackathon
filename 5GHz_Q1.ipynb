{
 "cells": [
  {
   "cell_type": "code",
   "execution_count": 41,
   "metadata": {
    "collapsed": true
   },
   "outputs": [],
   "source": [
    "from numba import cuda\n",
    "from numba import jit\n",
    "import numpy as np\n",
    "import time"
   ]
  },
  {
   "cell_type": "code",
   "execution_count": 42,
   "metadata": {
    "collapsed": true
   },
   "outputs": [],
   "source": [
    "def maxElement(arr, n):\n",
    "    max = arr[0]\n",
    "    for i in range(1, n):\n",
    "        if arr[i] > max:\n",
    "            max = arr[i]\n",
    "    return max"
   ]
  },
  {
   "cell_type": "code",
   "execution_count": 43,
   "metadata": {
    "collapsed": true
   },
   "outputs": [],
   "source": [
    "@jit \n",
    "def maxElementJit(arr, n):\n",
    "    max = arr[0]\n",
    "    for i in range(1, n):\n",
    "        if arr[i] > max:\n",
    "            max = arr[i]\n",
    "    return max"
   ]
  },
  {
   "cell_type": "code",
   "execution_count": 44,
   "metadata": {
    "collapsed": true
   },
   "outputs": [],
   "source": [
    "@cuda.jit\n",
    "def cuda_max_idx(arr, max1):\n",
    "    tx = cuda.threadIdx.x\n",
    "    ty = cuda.blockIdx.x\n",
    "    bw = cuda.blockDim.x\n",
    "    pos = tx + ty * bw\n",
    "    \n",
    "    while(pos < arr.size):\n",
    "        if arr[pos] > max1[0]:\n",
    "            max1[0] = arr[pos]\n",
    "        pos += cuda.blockDim.x * cuda.gridDim.x; "
   ]
  },
  {
   "cell_type": "code",
   "execution_count": 51,
   "metadata": {},
   "outputs": [
    {
     "name": "stdout",
     "output_type": "stream",
     "text": [
      "Sequential Time:  0.12113571166992188\n",
      "Jit Time:  0.0007665157318115234\n",
      "CUDA Time:  0.006484270095825195\n",
      "speedup-jit:  158.03421461897355\n",
      "speedup-cuda:  18.681472221200867\n"
     ]
    }
   ],
   "source": [
    "arr = np.random.randint(1000, size = 1000000)\n",
    "\n",
    "start = time.time()\n",
    "maxElement(arr, 1000000)\n",
    "end = time.time() \n",
    "s = end - start\n",
    "print(\"Sequential Time: \", s)\n",
    "\n",
    "start = time.time()\n",
    "maxElementJit(arr, 1000000)\n",
    "end = time.time() \n",
    "j = end - start\n",
    "print(\"Jit Time: \", j)\n",
    "\n",
    "max1 = np.zeros(1)\n",
    "start = time.time()\n",
    "cuda_max_idx[128, 64](arr, max1)\n",
    "end = time.time() \n",
    "c = end - start\n",
    "print(\"CUDA Time: \", c)\n",
    "\n",
    "print(\"speedup-jit: \", s/j)\n",
    "print(\"speedup-cuda: \", s/c)"
   ]
  },
  {
   "cell_type": "code",
   "execution_count": 39,
   "metadata": {},
   "outputs": [
    {
     "name": "stdout",
     "output_type": "stream",
     "text": [
      "115 ms ± 5.37 ms per loop (mean ± std. dev. of 7 runs, 10 loops each)\n",
      "4.19 ms ± 29.9 µs per loop (mean ± std. dev. of 7 runs, 100 loops each)\n"
     ]
    }
   ],
   "source": []
  },
  {
   "cell_type": "code",
   "execution_count": null,
   "metadata": {
    "collapsed": true
   },
   "outputs": [],
   "source": []
  }
 ],
 "metadata": {
  "kernelspec": {
   "display_name": "Python 3",
   "language": "python",
   "name": "python3"
  },
  "language_info": {
   "codemirror_mode": {
    "name": "ipython",
    "version": 3
   },
   "file_extension": ".py",
   "mimetype": "text/x-python",
   "name": "python",
   "nbconvert_exporter": "python",
   "pygments_lexer": "ipython3",
   "version": "3.6.10"
  }
 },
 "nbformat": 4,
 "nbformat_minor": 2
}
