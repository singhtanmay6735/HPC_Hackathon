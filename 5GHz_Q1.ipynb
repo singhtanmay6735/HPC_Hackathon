{
  "nbformat": 4,
  "nbformat_minor": 0,
  "metadata": {
    "colab": {
      "provenance": [],
      "collapsed_sections": []
    },
    "kernelspec": {
      "name": "python3",
      "display_name": "Python 3"
    },
    "language_info": {
      "name": "python"
    },
    "accelerator": "GPU",
    "gpuClass": "standard"
  },
  "cells": [
    {
      "cell_type": "code",
      "execution_count": 1,
      "metadata": {
        "id": "wvnMjVKzJRvi"
      },
      "outputs": [],
      "source": [
        "from numba import cuda\n",
        "from numba import jit\n",
        "import numpy as np\n",
        "import time"
      ]
    },
    {
      "cell_type": "code",
      "source": [
        "def maxElement(arr, n):\n",
        "    max = arr[0]\n",
        "    for i in range(1, n):\n",
        "        if arr[i] > max:\n",
        "            max = arr[i]\n",
        "    return max"
      ],
      "metadata": {
        "id": "7JlaH3YlJVaz"
      },
      "execution_count": 2,
      "outputs": []
    },
    {
      "cell_type": "code",
      "source": [
        "@jit \n",
        "def maxElementJit(arr, n):\n",
        "    max = arr[0]\n",
        "    for i in range(1, n):\n",
        "        if arr[i] > max:\n",
        "            max = arr[i]\n",
        "    return max"
      ],
      "metadata": {
        "id": "5RR8gLC_JXR0"
      },
      "execution_count": 3,
      "outputs": []
    },
    {
      "cell_type": "code",
      "source": [
        "@cuda.jit\n",
        "def cuda_max_idx(arr, max1):\n",
        "    tx = cuda.threadIdx.x\n",
        "    ty = cuda.blockIdx.x\n",
        "    bw = cuda.blockDim.x\n",
        "    pos = tx + ty * bw\n",
        "    \n",
        "    while(pos < arr.size):\n",
        "        if arr[pos] > max1[0]:\n",
        "            max1[0] = arr[pos]\n",
        "        pos += cuda.blockDim.x * cuda.gridDim.x; "
      ],
      "metadata": {
        "id": "dsIdBo5jJaJP"
      },
      "execution_count": 4,
      "outputs": []
    },
    {
      "cell_type": "code",
      "source": [
        "@cuda.jit\n",
        "def maxElement_1(arr,n,max_2):\n",
        "    idx = cuda.grid(1)\n",
        "    max_1 = arr[0]\n",
        "    for i in range(1, n):\n",
        "        if arr[i] > max_1:\n",
        "            max_1 = arr[i]\n",
        "    max_2[idx] = max_1"
      ],
      "metadata": {
        "id": "OrD4PWFeJduX"
      },
      "execution_count": 5,
      "outputs": []
    },
    {
      "cell_type": "code",
      "source": [
        "\n",
        "arr = np.random.randint(1000, size = 1000000)\n",
        "\n",
        "start = time.time()\n",
        "maxElement(arr, 1000000)\n",
        "end = time.time() \n",
        "s = end - start\n",
        "print(\"Sequential Time: \", s)\n",
        "\n",
        "start = time.time()\n",
        "maxElementJit(arr, 1000000)\n",
        "end = time.time() \n",
        "j = end - start\n",
        "print(\"Jit Time: \", j)\n",
        "\n",
        "max1 = np.zeros(1)\n",
        "start = time.time()\n",
        "cuda_max_idx[128, 64](arr, max1)\n",
        "end = time.time() \n",
        "c = end - start\n",
        "print(\"CUDA Time: \", c)\n",
        "\n",
        "print(\"speedup-jit: \", s/j)\n",
        "print(\"speedup-cuda: \", s/c)"
      ],
      "metadata": {
        "colab": {
          "base_uri": "https://localhost:8080/"
        },
        "id": "6XANbb9AJpKs",
        "outputId": "6b8986e5-6db3-444f-b885-30774d8b9537"
      },
      "execution_count": 6,
      "outputs": [
        {
          "output_type": "stream",
          "name": "stdout",
          "text": [
            "Sequential Time:  0.1724395751953125\n",
            "Jit Time:  0.5342023372650146\n",
            "CUDA Time:  0.8939037322998047\n",
            "speedup-jit:  0.3227982417264607\n",
            "speedup-cuda:  0.19290620339134942\n"
          ]
        },
        {
          "output_type": "stream",
          "name": "stderr",
          "text": [
            "/usr/local/lib/python3.7/dist-packages/numba/cuda/cudadrv/devicearray.py:885: NumbaPerformanceWarning: Host array used in CUDA kernel will incur copy overhead to/from device.\n",
            "  warn(NumbaPerformanceWarning(msg))\n"
          ]
        }
      ]
    },
    {
      "cell_type": "code",
      "source": [],
      "metadata": {
        "id": "P2XFtx8dJsjf"
      },
      "execution_count": null,
      "outputs": []
    }
  ]
}