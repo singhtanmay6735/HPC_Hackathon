{
 "cells": [
  {
   "cell_type": "code",
   "execution_count": 23,
   "metadata": {
    "collapsed": true
   },
   "outputs": [],
   "source": [
    "import numpy as np\n",
    "from numba import njit\n",
    "from numba import cuda\n",
    "import time\n",
    "import math"
   ]
  },
  {
   "cell_type": "code",
   "execution_count": 24,
   "metadata": {},
   "outputs": [
    {
     "name": "stdout",
     "output_type": "stream",
     "text": [
      "8.26 s ± 64.9 ms per loop (mean ± std. dev. of 7 runs, 1 loop each)\n"
     ]
    }
   ],
   "source": [
    "arr = np.random.randint(10, size=(4096,4096))\n",
    "def reverse2D(arr):\n",
    "    for i in range(len(arr)):\n",
    "        array_len = len(arr[i])\n",
    "        start = 0\n",
    "        end = array_len - 1\n",
    "        while(start < end):\n",
    "            arr[i][start], arr[i][end] = arr[i][end], arr[i][start]\n",
    "            start += 1\n",
    "            end -= 1\n",
    "    return arr\n",
    "            \n",
    "%timeit reverse2D(arr)"
   ]
  },
  {
   "cell_type": "code",
   "execution_count": 25,
   "metadata": {},
   "outputs": [
    {
     "name": "stdout",
     "output_type": "stream",
     "text": [
      "13.4 ms ± 126 µs per loop (mean ± std. dev. of 7 runs, 100 loops each)\n"
     ]
    }
   ],
   "source": [
    "@njit\n",
    "def reverse2Dnjit(arr):\n",
    "    for i in range(len(arr)):\n",
    "        array_len = len(arr[i])\n",
    "        start = 0\n",
    "        end = array_len - 1\n",
    "        while(start < end):\n",
    "            arr[i][start], arr[i][end] = arr[i][end], arr[i][start]\n",
    "            start += 1\n",
    "            end -= 1\n",
    "    return arr\n",
    "            \n",
    "%timeit reverse2Dnjit(arr)"
   ]
  },
  {
   "cell_type": "code",
   "execution_count": 26,
   "metadata": {},
   "outputs": [
    {
     "name": "stdout",
     "output_type": "stream",
     "text": [
      "[[8 2 0 ... 2 4 5]\n",
      " [1 0 2 ... 7 1 5]\n",
      " [9 3 2 ... 2 8 5]\n",
      " ...\n",
      " [8 1 9 ... 3 4 6]\n",
      " [4 6 8 ... 6 1 6]\n",
      " [5 2 3 ... 1 5 2]]\n"
     ]
    }
   ],
   "source": [
    "arr = np.random.randint(10, size=(4096,4096))\n",
    "print(arr)\n",
    "\n",
    "@cuda.jit\n",
    "def my_kernel(arr):\n",
    "    pos = cuda.grid(1)\n",
    "    for pos in range(len(arr)):\n",
    "        array_len = len(arr[pos])\n",
    "        start = 0\n",
    "        end = array_len - 1\n",
    "        while (start < end):\n",
    "            arr[pos][start], arr[pos][end] = arr[pos][end], arr[pos][start]\n",
    "            start += 1\n",
    "            end -= 1\n",
    "\n",
    "threadsperblock = 256\n",
    "blockspergrid = math.ceil(data.shape[0] / threadsperblock)\n",
    "my_kernel[blockspergrid, threadsperblock](arr)\n"
   ]
  },
  {
   "cell_type": "code",
   "execution_count": 27,
   "metadata": {},
   "outputs": [
    {
     "name": "stdout",
     "output_type": "stream",
     "text": [
      "1.77 s ± 484 µs per loop (mean ± std. dev. of 7 runs, 1 loop each)\n"
     ]
    }
   ],
   "source": [
    "%timeit my_kernel[blockspergrid, threadsperblock](arr)"
   ]
  },
  {
   "cell_type": "code",
   "execution_count": null,
   "metadata": {
    "collapsed": true
   },
   "outputs": [],
   "source": []
  }
 ],
 "metadata": {
  "kernelspec": {
   "display_name": "Python 3",
   "language": "python",
   "name": "python3"
  },
  "language_info": {
   "codemirror_mode": {
    "name": "ipython",
    "version": 3
   },
   "file_extension": ".py",
   "mimetype": "text/x-python",
   "name": "python",
   "nbconvert_exporter": "python",
   "pygments_lexer": "ipython3",
   "version": "3.6.10"
  }
 },
 "nbformat": 4,
 "nbformat_minor": 2
}
